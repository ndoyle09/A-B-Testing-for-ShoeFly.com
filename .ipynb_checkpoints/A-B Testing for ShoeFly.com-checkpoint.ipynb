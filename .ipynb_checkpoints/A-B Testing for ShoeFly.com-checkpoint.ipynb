{
 "cells": [
  {
   "cell_type": "markdown",
   "id": "8f12e2fd",
   "metadata": {},
   "source": [
    "# A-B Testing for ShoeFly.com\n",
    "Our favorite online shoe store, ShoeFly.com is performing an A/B Test. They have two different versions of an ad, which they have placed in emails, as well as in banner ads on Facebook, Twitter, and Google. They want to know how the two ads are performing on each of the different platforms on each day of the week. Help them analyze the data using aggregate measures."
   ]
  },
  {
   "cell_type": "markdown",
   "id": "0b1cc987",
   "metadata": {},
   "source": [
    "## Analyzing Ad Sources"
   ]
  },
  {
   "cell_type": "markdown",
   "id": "09567179",
   "metadata": {},
   "source": [
    "### 1.\n",
    "Examine the first few rows of `ad_clicks`."
   ]
  },
  {
   "cell_type": "code",
   "execution_count": 20,
   "id": "1f591e48",
   "metadata": {},
   "outputs": [
    {
     "name": "stdout",
     "output_type": "stream",
     "text": [
      "                                user_id utm_source           day   \n",
      "0  008b7c6c-7272-471e-b90e-930d548bd8d7     google  6 - Saturday  \\\n",
      "1  009abb94-5e14-4b6c-bb1c-4f4df7aa7557   facebook    7 - Sunday   \n",
      "2  00f5d532-ed58-4570-b6d2-768df5f41aed    twitter   2 - Tuesday   \n",
      "3  011adc64-0f44-4fd9-a0bb-f1506d2ad439     google   2 - Tuesday   \n",
      "4  012137e6-7ae7-4649-af68-205b4702169c   facebook    7 - Sunday   \n",
      "\n",
      "  ad_click_timestamp experimental_group  \n",
      "0               7:18                  A  \n",
      "1                NaN                  B  \n",
      "2                NaN                  A  \n",
      "3                NaN                  B  \n",
      "4                NaN                  B  \n"
     ]
    }
   ],
   "source": [
    "import pandas as pd\n",
    "\n",
    "ad_clicks = pd.read_csv('ad_clicks.csv')\n",
    "print(ad_clicks.head())"
   ]
  },
  {
   "cell_type": "markdown",
   "id": "3b418a30",
   "metadata": {},
   "source": [
    "### 2.\n",
    "Your manager wants to know which ad platform is getting you the most views.\n",
    "\n",
    "How many views (i.e., rows of the table) came from each `utm_source`?"
   ]
  },
  {
   "cell_type": "code",
   "execution_count": 21,
   "id": "4f888ea9",
   "metadata": {},
   "outputs": [
    {
     "name": "stdout",
     "output_type": "stream",
     "text": [
      "utm_source\n",
      "email       255\n",
      "facebook    504\n",
      "google      680\n",
      "twitter     215\n",
      "Name: user_id, dtype: int64\n"
     ]
    }
   ],
   "source": [
    "print(ad_clicks.groupby('utm_source').user_id.count())"
   ]
  },
  {
   "cell_type": "markdown",
   "id": "ca3d1863",
   "metadata": {},
   "source": [
    "### 3.\n",
    "If the column `ad_click_timestamp` is not null, then someone actually clicked on the ad that was displayed.\n",
    "\n",
    "Create a new column called `is_click`, which is \"True\" if `ad_click_timestamp` is not null and \"False\" otherwise."
   ]
  },
  {
   "cell_type": "code",
   "execution_count": 22,
   "id": "5df5d1f9",
   "metadata": {},
   "outputs": [],
   "source": [
    "ad_clicks['is_click'] = ~ad_clicks.ad_click_timestamp.isnull()"
   ]
  },
  {
   "cell_type": "markdown",
   "id": "f602e4cc",
   "metadata": {},
   "source": [
    "### 4.\n",
    "We want to know the percent of people who clicked on ads from each `utm_source`.\n",
    "\n",
    "Start by grouping by `utm_source` and `is_click` and counting the number of `user_id`s in each of those groups. Save your answer to the variable `clicks_by_source`."
   ]
  },
  {
   "cell_type": "code",
   "execution_count": 23,
   "id": "af9dfc61",
   "metadata": {},
   "outputs": [
    {
     "name": "stdout",
     "output_type": "stream",
     "text": [
      "  utm_source  is_click  user_id\n",
      "0      email     False      175\n",
      "1      email      True       80\n",
      "2   facebook     False      324\n",
      "3   facebook      True      180\n",
      "4     google     False      441\n",
      "5     google      True      239\n",
      "6    twitter     False      149\n",
      "7    twitter      True       66\n"
     ]
    }
   ],
   "source": [
    "clicks_by_source = ad_clicks.groupby(['utm_source','is_click']).user_id.count().reset_index()\n",
    "print(clicks_by_source)"
   ]
  },
  {
   "cell_type": "markdown",
   "id": "0b7a7c47",
   "metadata": {},
   "source": [
    "### 5.\n",
    "Now let’s pivot the data so that the columns are `is_click` (either \"True\" or \"False\"), the index is `utm_source`, and the values are `user_id`.\n",
    "\n",
    "Save your results to the variable `clicks_pivot`."
   ]
  },
  {
   "cell_type": "code",
   "execution_count": 24,
   "id": "989bfb2e",
   "metadata": {},
   "outputs": [
    {
     "name": "stdout",
     "output_type": "stream",
     "text": [
      "is_click utm_source  False  True\n",
      "0             email    175    80\n",
      "1          facebook    324   180\n",
      "2            google    441   239\n",
      "3           twitter    149    66\n"
     ]
    }
   ],
   "source": [
    "clicks_pivot = clicks_by_source.pivot(columns='is_click',index='utm_source',values='user_id').reset_index()\n",
    "\n",
    "print(clicks_pivot)"
   ]
  },
  {
   "cell_type": "markdown",
   "id": "176df52f",
   "metadata": {},
   "source": [
    "### 6.\n",
    "Create a new column in `clicks_pivot` called `percent_clicked` which is equal to the percent of users who clicked on the ad from each `utm_source`.\n",
    "\n",
    "Was there a difference in click rates for each source?"
   ]
  },
  {
   "cell_type": "code",
   "execution_count": 25,
   "id": "3fa491c9",
   "metadata": {},
   "outputs": [
    {
     "name": "stdout",
     "output_type": "stream",
     "text": [
      "is_click utm_source  False  True  percent_clicked\n",
      "0             email    175    80         0.313725\n",
      "1          facebook    324   180         0.357143\n",
      "2            google    441   239         0.351471\n",
      "3           twitter    149    66         0.306977\n"
     ]
    }
   ],
   "source": [
    "clicks_pivot['percent_clicked'] = clicks_pivot[True] / (clicks_pivot[True] + clicks_pivot[False])\n",
    "print(clicks_pivot)"
   ]
  },
  {
   "cell_type": "markdown",
   "id": "88dacf1c",
   "metadata": {},
   "source": [
    "## Analyzing an A/B Test"
   ]
  },
  {
   "cell_type": "markdown",
   "id": "16d6a6ee",
   "metadata": {},
   "source": [
    "### 7.\n",
    "The column `experimental_group` tells us whether the user was shown Ad A or Ad B.\n",
    "\n",
    "Were approximately the same number of people shown both ads?"
   ]
  },
  {
   "cell_type": "code",
   "execution_count": 26,
   "id": "30ff8cab",
   "metadata": {},
   "outputs": [
    {
     "name": "stdout",
     "output_type": "stream",
     "text": [
      "  experimental_group  user_id\n",
      "0                  A      827\n",
      "1                  B      827\n"
     ]
    }
   ],
   "source": [
    "print(ad_clicks.groupby('experimental_group').user_id.count().reset_index())"
   ]
  },
  {
   "cell_type": "markdown",
   "id": "3bc2c9ad",
   "metadata": {},
   "source": [
    "### 8.\n",
    "\n",
    "Using the column `is_click` that we defined earlier, check to see if a greater percentage of users clicked on Ad A or Ad B."
   ]
  },
  {
   "cell_type": "code",
   "execution_count": 27,
   "id": "81cbadae",
   "metadata": {},
   "outputs": [
    {
     "name": "stdout",
     "output_type": "stream",
     "text": [
      "is_click experimental_group  False  True\n",
      "0                         A    517   310\n",
      "1                         B    572   255\n"
     ]
    }
   ],
   "source": [
    "print(ad_clicks.groupby(['experimental_group','is_click']).user_id.count().reset_index().pivot(index='experimental_group', columns='is_click', values='user_id').reset_index())\n"
   ]
  },
  {
   "cell_type": "markdown",
   "id": "6c4db63e",
   "metadata": {},
   "source": [
    "### 9.\n",
    "The Product Manager for the A/B test thinks that the clicks might have changed by day of the week.\n",
    "\n",
    "Start by creating two DataFrames: `a_clicks` and `b_clicks`, which contain only the results for A group and B group, respectively."
   ]
  },
  {
   "cell_type": "code",
   "execution_count": 28,
   "id": "cb0bf5f6",
   "metadata": {},
   "outputs": [
    {
     "name": "stdout",
     "output_type": "stream",
     "text": [
      "                                user_id utm_source            day   \n",
      "0  008b7c6c-7272-471e-b90e-930d548bd8d7     google   6 - Saturday  \\\n",
      "2  00f5d532-ed58-4570-b6d2-768df5f41aed    twitter    2 - Tuesday   \n",
      "5  013b0072-7b72-40e7-b698-98b4d0c9967f   facebook     1 - Monday   \n",
      "6  0153d85b-7660-4c39-92eb-1e1acd023280     google   4 - Thursday   \n",
      "7  01555297-d6e6-49ae-aeba-1b196fdbb09f     google  3 - Wednesday   \n",
      "\n",
      "  ad_click_timestamp experimental_group  is_click  \n",
      "0               7:18                  A      True  \n",
      "2                NaN                  A     False  \n",
      "5                NaN                  A     False  \n",
      "6                NaN                  A     False  \n",
      "7                NaN                  A     False  \n",
      "                                 user_id utm_source            day   \n",
      "1   009abb94-5e14-4b6c-bb1c-4f4df7aa7557   facebook     7 - Sunday  \\\n",
      "3   011adc64-0f44-4fd9-a0bb-f1506d2ad439     google    2 - Tuesday   \n",
      "4   012137e6-7ae7-4649-af68-205b4702169c   facebook     7 - Sunday   \n",
      "9   01a210c3-fde0-4e6f-8efd-4f0e38730ae6      email    2 - Tuesday   \n",
      "10  01adb2e7-f711-4ae4-a7c6-29f48457eea1     google  3 - Wednesday   \n",
      "\n",
      "   ad_click_timestamp experimental_group  is_click  \n",
      "1                 NaN                  B     False  \n",
      "3                 NaN                  B     False  \n",
      "4                 NaN                  B     False  \n",
      "9               15:21                  B      True  \n",
      "10                NaN                  B     False  \n"
     ]
    }
   ],
   "source": [
    "a_clicks = ad_clicks[ad_clicks.experimental_group == 'A']\n",
    "b_clicks = ad_clicks[ad_clicks.experimental_group == 'B']\n",
    "print(a_clicks.head(5))\n",
    "print(b_clicks.head(5))"
   ]
  },
  {
   "cell_type": "markdown",
   "id": "55b39f13",
   "metadata": {},
   "source": [
    "### 10.\n",
    "For each group (`a_clicks` and `b_clicks`), calculate the percent of users who clicked on the ad by day."
   ]
  },
  {
   "cell_type": "code",
   "execution_count": 29,
   "id": "f265bc1c",
   "metadata": {},
   "outputs": [
    {
     "name": "stdout",
     "output_type": "stream",
     "text": [
      "is_click            day  False  True  percent_clicked\n",
      "0            1 - Monday     70    43         0.380531\n",
      "1           2 - Tuesday     76    43         0.361345\n",
      "2         3 - Wednesday     86    38         0.306452\n",
      "3          4 - Thursday     69    47         0.405172\n",
      "4            5 - Friday     77    51         0.398438\n",
      "5          6 - Saturday     73    45         0.381356\n",
      "6            7 - Sunday     66    43         0.394495\n"
     ]
    }
   ],
   "source": [
    "a_clicks = ad_clicks[ad_clicks.experimental_group == 'A']\n",
    "\n",
    "a_clicks_pivot = a_clicks.groupby(['is_click', 'day']).user_id.count().reset_index().pivot(\n",
    "    index = 'day',\n",
    "    columns = 'is_click',\n",
    "    values = 'user_id',\n",
    ").reset_index()\n",
    "\n",
    "a_clicks_pivot['percent_clicked'] = a_clicks_pivot[True] / (a_clicks_pivot[True] + a_clicks_pivot[False])\n",
    "\n",
    "print(a_clicks_pivot)"
   ]
  },
  {
   "cell_type": "code",
   "execution_count": 30,
   "id": "d20d8199",
   "metadata": {},
   "outputs": [
    {
     "name": "stdout",
     "output_type": "stream",
     "text": [
      "is_click            day  False  True  percent_clicked\n",
      "0            1 - Monday     81    32         0.283186\n",
      "1           2 - Tuesday     74    45         0.378151\n",
      "2         3 - Wednesday     89    35         0.282258\n",
      "3          4 - Thursday     87    29         0.250000\n",
      "4            5 - Friday     90    38         0.296875\n",
      "5          6 - Saturday     76    42         0.355932\n",
      "6            7 - Sunday     75    34         0.311927\n"
     ]
    }
   ],
   "source": [
    "b_clicks = ad_clicks[ad_clicks.experimental_group == 'B']\n",
    "\n",
    "b_clicks_pivot = b_clicks.groupby(['is_click', 'day']).user_id.count().reset_index().pivot(\n",
    "    index = 'day',\n",
    "    columns = 'is_click',\n",
    "    values = 'user_id',\n",
    ").reset_index()\n",
    "\n",
    "b_clicks_pivot['percent_clicked'] = b_clicks_pivot[True] / (b_clicks_pivot[True] + b_clicks_pivot[False])\n",
    "\n",
    "print(b_clicks_pivot)"
   ]
  },
  {
   "cell_type": "markdown",
   "id": "6ecae1a9",
   "metadata": {},
   "source": [
    "### 11.\n",
    "Compare the results for A and B. What happened over the course of the week?\n",
    "\n",
    "Do you recommend that your company use Ad A or Ad B?"
   ]
  },
  {
   "cell_type": "markdown",
   "id": "5b7644f8",
   "metadata": {},
   "source": [
    "Ad A has a better click rate than B on every day of the week except for Tuesdays. A is looking like the more effective ad at driving clicks."
   ]
  }
 ],
 "metadata": {
  "kernelspec": {
   "display_name": "Python 3 (ipykernel)",
   "language": "python",
   "name": "python3"
  },
  "language_info": {
   "codemirror_mode": {
    "name": "ipython",
    "version": 3
   },
   "file_extension": ".py",
   "mimetype": "text/x-python",
   "name": "python",
   "nbconvert_exporter": "python",
   "pygments_lexer": "ipython3",
   "version": "3.10.8"
  }
 },
 "nbformat": 4,
 "nbformat_minor": 5
}
